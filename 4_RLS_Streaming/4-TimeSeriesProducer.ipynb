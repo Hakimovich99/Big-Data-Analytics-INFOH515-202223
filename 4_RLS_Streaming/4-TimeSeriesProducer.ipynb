{
 "cells": [
  {
   "cell_type": "markdown",
   "metadata": {},
   "source": [
    "# [INFO-H515 - Big Data Scalable Analytics](https://uv.ulb.ac.be/course/view.php?id=85246?username=guest)\n",
    "\n",
    "## TP 4 - Streaming forecasting (RLS and ML) with a network socket and Spark Streaming\n",
    "\n",
    "#### *Gianluca Bontempi, Cédric Simar and Theo Verhelst*\n",
    "\n",
    "####  26/04/2023\n",
    "\n",
    "## Sending data to network socket\n",
    "\n",
    "This notebook uses a network socket to send stremaing data. \n",
    "\n",
    "In this example, the messages are data generated from a linear model with $n$ input variables, i.e., \n",
    "\n",
    "$$\n",
    "y =x^T \\beta +w\n",
    "$$\n",
    "with $x, \\beta \\in \\mathbb{R}^n$, and $y, w \\in \\mathbb{R}$. $w$ is Gaussian noise.\n",
    "\n",
    "Messages are sent every `time_delay` seconds. They are a list of size $(n+2)$ where:\n",
    "* First element is the message index \n",
    "* Second element is $y$ \n",
    "* Third to last elements are $x$ values (size $n$)\n"
   ]
  },
  {
   "cell_type": "markdown",
   "metadata": {},
   "source": [
    "Let's start by importing all the required libraries"
   ]
  },
  {
   "cell_type": "code",
   "execution_count": null,
   "metadata": {},
   "outputs": [],
   "source": [
    "import time\n",
    "import numpy as np"
   ]
  },
  {
   "cell_type": "markdown",
   "metadata": {},
   "source": [
    "Then, let's create a socket, running on port 9999, in order to be able to send messages."
   ]
  },
  {
   "cell_type": "code",
   "execution_count": null,
   "metadata": {},
   "outputs": [],
   "source": [
    "import socket\n",
    "  \n",
    "# take the server name and port name\n",
    "host = 'localhost'\n",
    "port = 9999\n",
    "  \n",
    "# create a socket at server side\n",
    "# using TCP / IP protocol\n",
    "s = socket.socket(socket.AF_INET,\n",
    "                  socket.SOCK_STREAM)\n",
    "  \n",
    "# bind the socket with server\n",
    "# and port number\n",
    "s.bind((host, port))\n",
    "  \n",
    "# allow maximum 1 connection to\n",
    "# the socket\n",
    "s.listen(5)\n",
    "  \n",
    "# wait till a client accept\n",
    "# connection\n",
    "c, addr = s.accept()\n",
    "  \n",
    "# display client address\n",
    "print(\"CONNECTION FROM:\", str(addr))"
   ]
  },
  {
   "cell_type": "markdown",
   "metadata": {},
   "source": [
    "## Linear DGP (Data Generating Process)\n",
    "\n",
    "In this example, the messages are data generated from a linear model with $n$ input variables and random coefficients $\\beta$, i.e., \n",
    "\n",
    "$$\n",
    "y =x^T \\beta +w\n",
    "$$\n",
    "with $x, \\beta \\in \\mathbb{R}^n$, and $y, w \\in \\mathbb{R}$. $w$ is Gaussian noise.\n",
    "\n",
    "Please note that the numerical values, here encoded as a numpy array, are sent to the network socket in a serialized (string) format.\n"
   ]
  },
  {
   "cell_type": "code",
   "execution_count": null,
   "metadata": {},
   "outputs": [],
   "source": [
    "np.random.seed(2452020515) # Fix seed to ensure repeatability\n",
    "i=0 #Initialise counter\n",
    "\n",
    "n=10   # number of inputs\n",
    "time_delay = 0.01 # Time delay between the transmission of two consecutive messages\n",
    "\n",
    "beta=np.zeros(n) \n",
    "beta[0]=1   \n",
    "beta[-1]=1 ## first and last parameters are 1, others are zeros\n",
    "beta.shape=(n,1)\n",
    "\n",
    "\n",
    "#Infinite loop for sending messages to Kafka with the topic dataLinearModel\n",
    "while True:\n",
    "    # Randomly generate x_i\n",
    "    x = np.random.randn(1,n)[0]\n",
    "    \n",
    "    # Compute y from x_i according to formula\n",
    "    y = float(x.dot(beta)) + 0.1 * np.random.rand(1)[0] ## y =x^T beta +w\n",
    "\n",
    "    # Serialize array and print message as a string\n",
    "    message = np.array2string(np.append([i,y],x),separator=\",\",max_line_width=1000) +'\\n'\n",
    "    #print(message) # n=10 -> 12 elements in the message: cnt+y+10 xi\n",
    "    \n",
    "    # Send message to the client\n",
    "    try:  \n",
    "        c.send(message.encode())\n",
    "    except socket.error:\n",
    "        # If failed, client is probably disconnected. Wait for another connection\n",
    "        c.close()\n",
    "        c, addr = s.accept()\n",
    "    \n",
    "    i = i+1\n",
    "    time.sleep(time_delay)\n",
    "    "
   ]
  },
  {
   "cell_type": "code",
   "execution_count": null,
   "metadata": {},
   "outputs": [],
   "source": [
    "# disconnect the server\n",
    "c.close()"
   ]
  },
  {
   "cell_type": "markdown",
   "metadata": {},
   "source": [
    "**N.B** As the cell runs an infinite loop, the producer is never going to stop by itself. \n",
    "Don't forget to stop the cell using the dedicated button (■)."
   ]
  },
  {
   "cell_type": "markdown",
   "metadata": {},
   "source": [
    "## Non-linear DGP (Data Generating Process)\n",
    "\n",
    "In this example, the messages are data generated from a non-linear model with $n$ input variables, i.e., \n",
    "\n",
    "$$\n",
    "y = \\sin(x_0) + |x_1*x_2| + \\sum_{i=2}^{10} log(x_i) + w\n",
    "$$\n",
    "with $x \\in \\mathbb{R}^n$, and $y, w \\in \\mathbb{R}$. $w$ is Gaussian noise.\n",
    "\n",
    "Please note that the numerical values, here encoded as a numpy array, are sent to the network socket in a serialized (string) format."
   ]
  },
  {
   "cell_type": "code",
   "execution_count": null,
   "metadata": {},
   "outputs": [],
   "source": [
    "np.random.seed(2452020515) # Fix seed to ensure repeatability\n",
    "i=0 #Initialise counter\n",
    "\n",
    "n=10   # number of inputs\n",
    "time_delay = 1 # Time delay between the transmission of two consecutive messages\n",
    "\n",
    "#Infinite loop for sending messages to Kafka with the topic dataNonLinearModel\n",
    "while True:\n",
    "    # Randomly generate x_i\n",
    "    x=np.random.rand(1,n)[0]\n",
    "    # Compute y from x_i according to formula\n",
    "    y=float(np.sin(x[0])+abs(x[1]*x[2])+np.log(abs(x[-1])))+0.25*np.random.rand(1)[0]\n",
    "    \n",
    "    # Serialize array and print message as a string\n",
    "    message=np.array2string(np.append([i,y],x),separator=\",\") \n",
    "    print(message) # n=10 -> 12 elements in the message: cnt+y+10 xi\n",
    "    \n",
    "    # Send message to the client\n",
    "    try:  \n",
    "        c.send(message.encode())\n",
    "    except socket.error:\n",
    "        # If failed, client is probably disconnected. Wait for another connection\n",
    "        c.close()\n",
    "        c, addr = s.accept()\n",
    "    \n",
    "    \n",
    "    i=i+1\n",
    "    time.sleep(time_delay)\n",
    "    "
   ]
  },
  {
   "cell_type": "markdown",
   "metadata": {},
   "source": [
    "**N.B** As the cell runs an infinite loop, the producer is never going to stop by itself. \n",
    "Don't forget to stop the cell using the dedicated button (■)."
   ]
  }
 ],
 "metadata": {
  "kernelspec": {
   "display_name": "Python 3 (ipykernel)",
   "language": "python",
   "name": "python3"
  },
  "language_info": {
   "codemirror_mode": {
    "name": "ipython",
    "version": 3
   },
   "file_extension": ".py",
   "mimetype": "text/x-python",
   "name": "python",
   "nbconvert_exporter": "python",
   "pygments_lexer": "ipython3",
   "version": "3.10.7"
  }
 },
 "nbformat": 4,
 "nbformat_minor": 1
}
